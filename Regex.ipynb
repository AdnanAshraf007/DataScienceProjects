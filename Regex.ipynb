{
 "cells": [
  {
   "cell_type": "code",
   "execution_count": 9,
   "id": "410aa9a3",
   "metadata": {},
   "outputs": [
    {
     "data": {
      "text/plain": [
       "4"
      ]
     },
     "execution_count": 9,
     "metadata": {},
     "output_type": "execute_result"
    }
   ],
   "source": [
    "import re\n",
    "def names():\n",
    "    simple_string = \"\"\"Amy is 5 years old, and her sister Mary is 2 years old. \n",
    "    Ruth and Peter, their parents, have 3 kids.\"\"\"\n",
    "\n",
    "    pattern = r'\\b[A-Z][a-z]*\\b'\n",
    "    result = re.findall(pattern, simple_string)\n",
    "    return result\n",
    "len(names())"
   ]
  },
  {
   "cell_type": "code",
   "execution_count": 1,
   "id": "02e21498",
   "metadata": {},
   "outputs": [
    {
     "data": {
      "text/plain": [
       "16"
      ]
     },
     "execution_count": 1,
     "metadata": {},
     "output_type": "execute_result"
    }
   ],
   "source": [
    "import re\n",
    "def grades():\n",
    "    with open (\"assets/grades.txt\", \"r\") as file:\n",
    "        grades = file.read()\n",
    "\n",
    "    pattern = r\"(\\b[A-Z][a-z]+ [A-Z][a-z]+)\\s*:\\s*B\"\n",
    "    b_grades = re.findall(pattern, grades)\n",
    "    return b_grades\n",
    "len(grades())\n"
   ]
  },
  {
   "cell_type": "code",
   "execution_count": 3,
   "id": "3158eaa3",
   "metadata": {},
   "outputs": [
    {
     "ename": "NameError",
     "evalue": "name 'one_item' is not defined",
     "output_type": "error",
     "traceback": [
      "\u001b[1;31m---------------------------------------------------------------------------\u001b[0m",
      "\u001b[1;31mNameError\u001b[0m                                 Traceback (most recent call last)",
      "Cell \u001b[1;32mIn[3], line 21\u001b[0m\n\u001b[0;32m     19\u001b[0m     \u001b[38;5;28;01mreturn\u001b[39;00m log_entries\n\u001b[0;32m     20\u001b[0m \u001b[38;5;28mlen\u001b[39m(logs())\n\u001b[1;32m---> 21\u001b[0m \u001b[43mone_item\u001b[49m\n",
      "\u001b[1;31mNameError\u001b[0m: name 'one_item' is not defined"
     ]
    }
   ],
   "source": [
    "import re\n",
    "def logs():\n",
    "    with open(\"assets/logdata.txt\", \"r\") as file:\n",
    "        logdata = file.read()\n",
    "    pattern = \"\"\"\n",
    "        (?P<host>.*?)\n",
    "        (\\ -\\ )\n",
    "        (?P<user_name>[\\w-]*)\n",
    "        (\\s\\[)\n",
    "        (?P<time>.*?)\n",
    "        (\\]\\s\")\n",
    "        (?P<request>.*?)\n",
    "        (\\\"\\s)\n",
    "    \"\"\"\n",
    "    log_entries = []\n",
    "    for match in re.finditer(pattern, logdata, re.VERBOSE):\n",
    "        log_entry = match.groupdict()\n",
    "        log_entries.append(log_entry)\n",
    "    return log_entries\n",
    "len(logs())\n",
    "one_item"
   ]
  },
  {
   "cell_type": "code",
   "execution_count": null,
   "id": "2e848270",
   "metadata": {},
   "outputs": [],
   "source": []
  }
 ],
 "metadata": {
  "kernelspec": {
   "display_name": "Python 3 (ipykernel)",
   "language": "python",
   "name": "python3"
  },
  "language_info": {
   "codemirror_mode": {
    "name": "ipython",
    "version": 3
   },
   "file_extension": ".py",
   "mimetype": "text/x-python",
   "name": "python",
   "nbconvert_exporter": "python",
   "pygments_lexer": "ipython3",
   "version": "3.10.11"
  }
 },
 "nbformat": 4,
 "nbformat_minor": 5
}
